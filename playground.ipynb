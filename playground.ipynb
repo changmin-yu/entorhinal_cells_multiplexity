{
 "cells": [
  {
   "cell_type": "code",
   "execution_count": 1,
   "metadata": {},
   "outputs": [],
   "source": [
    "import numpy as np\n",
    "import matplotlib.pyplot as plt\n",
    "\n",
    "import pickle\n",
    "\n",
    "from utils.data_loader import load_data\n",
    "from models.fit_LN_model import fit_all_LN_models\n",
    "from models.model_selection import model_selection\n",
    "from utils.tuning_curves import compute_all_tuning_curves\n",
    "\n",
    "%matplotlib inline\n",
    "%load_ext autoreload\n",
    "%autoreload 2"
   ]
  },
  {
   "cell_type": "code",
   "execution_count": 16,
   "metadata": {},
   "outputs": [],
   "source": [
    "DATADIR = \"data/data_for_cell77.mat\"\n",
    "\n",
    "n_pos_bins = 20\n",
    "n_hd_bins = 18\n",
    "n_speed_bins = 10\n",
    "n_theta_bins = 18\n",
    "\n",
    "max_speed = 50.0"
   ]
  },
  {
   "cell_type": "code",
   "execution_count": 2,
   "metadata": {},
   "outputs": [],
   "source": [
    "with open(\"data/fitted_params.pkl\", \"rb\") as f:\n",
    "    d_fitting, hd_rad, speed, theta_rad, firing_rate_smooth = pickle.load(f)\n",
    "f.close()"
   ]
  },
  {
   "cell_type": "code",
   "execution_count": 34,
   "metadata": {},
   "outputs": [
    {
     "data": {
      "text/plain": [
       "array([19.25947009, 21.46010632, 16.01078969, 16.86525537, 22.73581318,\n",
       "       27.89107671, 30.2652277 , 24.3784611 , 29.21860308, 19.8732601 ])"
      ]
     },
     "execution_count": 34,
     "metadata": {},
     "output_type": "execute_result"
    }
   ],
   "source": [
    "d_fitting[\"test_fit\"][0][:, 3]"
   ]
  },
  {
   "cell_type": "code",
   "execution_count": 35,
   "metadata": {},
   "outputs": [],
   "source": [
    "selected_model = model_selection(d_fitting)"
   ]
  },
  {
   "cell_type": "code",
   "execution_count": 13,
   "metadata": {},
   "outputs": [],
   "source": [
    "pos_left, pos_right, pos_middle, filtered_lfp, time, spike_train, sample_rate, box_size, lfp_sample_rate = load_data(DATADIR)"
   ]
  },
  {
   "cell_type": "code",
   "execution_count": 21,
   "metadata": {},
   "outputs": [],
   "source": [
    "pos_tuning_curve, hd_tuning_curve, speed_tuning_curve, theta_tuning_curve = compute_all_tuning_curves(\n",
    "    pos=pos_middle, \n",
    "    hd=hd_rad, \n",
    "    speed=speed, \n",
    "    theta=theta_rad, \n",
    "    firing_rate_smooth=firing_rate_smooth, \n",
    "    n_pos_bins=n_pos_bins, \n",
    "    n_hd_bins=n_hd_bins, \n",
    "    n_speed_bins=n_speed_bins, \n",
    "    n_theta_bins=n_theta_bins, \n",
    "    box_size=box_size, \n",
    "    max_speed=max_speed, \n",
    ")"
   ]
  },
  {
   "cell_type": "code",
   "execution_count": 36,
   "metadata": {},
   "outputs": [
    {
     "data": {
      "text/plain": [
       "<matplotlib.image.AxesImage at 0x1500c6880>"
      ]
     },
     "execution_count": 36,
     "metadata": {},
     "output_type": "execute_result"
    },
    {
     "data": {
      "image/png": "[encoded data removed]",
      "text/plain": [
       "<Figure size 640x480 with 1 Axes>"
      ]
     },
     "metadata": {},
     "output_type": "display_data"
    }
   ],
   "source": [
    "plt.imshow(d_fitting[\"fitted_params\"][1][:400].reshape(20, 20), cmap=\"jet\")"
   ]
  },
  {
   "cell_type": "code",
   "execution_count": null,
   "metadata": {},
   "outputs": [],
   "source": []
  }
 ],
 "metadata": {
  "kernelspec": {
   "display_name": "cyu_arm",
   "language": "python",
   "name": "python3"
  },
  "language_info": {
   "codemirror_mode": {
    "name": "ipython",
    "version": 3
   },
   "file_extension": ".py",
   "mimetype": "text/x-python",
   "name": "python",
   "nbconvert_exporter": "python",
   "pygments_lexer": "ipython3",
   "version": "3.9.13"
  }
 },
 "nbformat": 4,
 "nbformat_minor": 2
}
